{
 "cells": [
  {
   "cell_type": "code",
   "execution_count": 39,
   "id": "2e28b01d",
   "metadata": {},
   "outputs": [
    {
     "name": "stdout",
     "output_type": "stream",
     "text": [
      "1/1 [==============================] - 0s 42ms/step\n"
     ]
    },
    {
     "name": "stderr",
     "output_type": "stream",
     "text": [
      "C:\\Users\\chand\\AppData\\Local\\Temp\\ipykernel_19284\\374823938.py:47: DeprecationWarning: ANTIALIAS is deprecated and will be removed in Pillow 10 (2023-07-01). Use Resampling.LANCZOS instead.\n",
      "  img = img.resize((300, 300), Image.ANTIALIAS)\n",
      "C:\\Users\\chand\\anaconda3\\lib\\site-packages\\transformers\\generation\\configuration_utils.py:394: UserWarning: `do_sample` is set to `False`. However, `top_p` is set to `0.95` -- this flag is only used in sample-based generation modes. You should set `do_sample=True` or unset `top_p`.\n",
      "  warnings.warn(\n",
      "The attention mask and the pad token id were not set. As a consequence, you may observe unexpected behavior. Please pass your input's `attention_mask` to obtain reliable results.\n",
      "Setting `pad_token_id` to `eos_token_id`:50256 for open-end generation.\n"
     ]
    }
   ],
   "source": [
    "import tkinter as tk\n",
    "from tkinter import filedialog\n",
    "from PIL import Image, ImageTk\n",
    "import numpy as np\n",
    "from tensorflow.keras.models import load_model\n",
    "from tensorflow.keras.preprocessing import image\n",
    "from transformers import GPT2LMHeadModel, GPT2Tokenizer\n",
    "\n",
    "# Load your pre-trained model\n",
    "\n",
    "model_path = 'C:\\\\Users\\\\chand\\\\Desktop\\\\FinalYearProject\\\\densener169_emotion_detection_model.h5'\n",
    "emotion_model = load_model(model_path)\n",
    "\n",
    "# Load the pre-trained GPT-2 model and tokenizer\n",
    "gpt2_model = GPT2LMHeadModel.from_pretrained(\"gpt2\")\n",
    "gpt2_tokenizer = GPT2Tokenizer.from_pretrained(\"gpt2\")\n",
    "\n",
    "# Map emotion index to labels\n",
    "emotion_labels = {0: 'Angry', 1: 'Disgust', 2: 'Fear', 3: 'Happy', 4: 'Sad', 5: 'Surprise', 6: 'Neutral'}\n",
    "\n",
    "# Function to predict emotion\n",
    "def predict_emotion(img_path):\n",
    "    img = image.load_img(img_path, target_size=(48, 48), color_mode='grayscale')\n",
    "    img_array = image.img_to_array(img)\n",
    "    img_array = np.expand_dims(img_array, axis=0)\n",
    "    emotion_prediction = emotion_model.predict(img_array)\n",
    "    emotion_index = np.argmax(emotion_prediction)\n",
    "    predicted_emotion = emotion_labels[emotion_index]\n",
    "    return predicted_emotion\n",
    "\n",
    "# Function to generate a new quote using GPT-2\n",
    "def generate_gpt2_quote(prompt):\n",
    "    input_ids = gpt2_tokenizer.encode(prompt, return_tensors=\"pt\")\n",
    "    outputs = gpt2_model.generate(input_ids, max_length=100, num_return_sequences=1, no_repeat_ngram_size=2, top_k=50, top_p=0.95)\n",
    "    generated_quote = gpt2_tokenizer.decode(outputs[0], skip_special_tokens=True)\n",
    "    return generated_quote\n",
    "\n",
    "# Function to upload image, predict emotion, display image, and generate quote\n",
    "def process_image():\n",
    "    file_path = filedialog.askopenfilename(title=\"Select Image\", filetypes=[(\"Image files\", \"*.png;*.jpg;*.jpeg\")])\n",
    "    if file_path:\n",
    "        predicted_emotion = predict_emotion(file_path)\n",
    "        display_image(file_path, predicted_emotion)\n",
    "\n",
    "# Function to display image and generate quote\n",
    "def display_image(img_path, emotion):\n",
    "    img = Image.open(img_path)\n",
    "    img = img.resize((300, 300), Image.ANTIALIAS)\n",
    "    img = ImageTk.PhotoImage(img)\n",
    "    panel = tk.Label(root, image=img)\n",
    "    panel.image = img\n",
    "    panel.pack()\n",
    "\n",
    "    result_label.config(text=f\"Predicted Emotion: {emotion}\")\n",
    "    \n",
    "    # Generate and display a random quote based on the predicted emotion\n",
    "    quote = generate_gpt2_quote(f\"Life is {emotion}.\")\n",
    "    quote_label.config(text=f\"Random Quote:\\n{quote}\")\n",
    "\n",
    "# Create the main window\n",
    "root = tk.Tk()\n",
    "root.title(\"Emotion Prediction and Quote Generation\")\n",
    "\n",
    "# Create and pack the widgets\n",
    "upload_button = tk.Button(root, text=\"Upload Photo\", command=process_image)\n",
    "upload_button.pack(pady=10)\n",
    "\n",
    "result_label = tk.Label(root, text=\"\")\n",
    "result_label.pack(pady=10)\n",
    "\n",
    "quote_label = tk.Label(root, text=\"\", wraplength=400)  # Adjust wraplength as needed\n",
    "quote_label.pack(pady=10)\n",
    "\n",
    "# Start the Tkinter event loop\n",
    "root.mainloop()\n"
   ]
  }
 ],
 "metadata": {
  "kernelspec": {
   "display_name": "Python 3 (ipykernel)",
   "language": "python",
   "name": "python3"
  },
  "language_info": {
   "codemirror_mode": {
    "name": "ipython",
    "version": 3
   },
   "file_extension": ".py",
   "mimetype": "text/x-python",
   "name": "python",
   "nbconvert_exporter": "python",
   "pygments_lexer": "ipython3",
   "version": "3.9.13"
  }
 },
 "nbformat": 4,
 "nbformat_minor": 5
}
